{
 "cells": [
  {
   "cell_type": "markdown",
   "metadata": {},
   "source": [
    "# Import libraries"
   ]
  },
  {
   "cell_type": "code",
   "execution_count": 106,
   "metadata": {
    "collapsed": true
   },
   "outputs": [],
   "source": [
    "import numpy as np\n",
    "import pandas as pd\n",
    "from sklearn.cross_validation import train_test_split\n",
    "from sklearn.tree import DecisionTreeClassifier\n",
    "from sklearn import tree\n",
    "from sklearn.cross_validation import cross_val_score\n",
    "import time"
   ]
  },
  {
   "cell_type": "markdown",
   "metadata": {},
   "source": [
    "# Read-in the data"
   ]
  },
  {
   "cell_type": "code",
   "execution_count": 112,
   "metadata": {},
   "outputs": [],
   "source": [
    "Real_Dir = \"/Users/KVTran/Documents/Research/WPI/Slip_Buddy/REU_2017/data/Individual_Patient/\"\n",
    "Synth_Dir = \"/Users/KVTran/Documents/Research/WPI/Slip_Buddy/REU_2017/data/synth/\"\n",
    "File_Name = \"patientID_10.csv\"\n",
    "\n",
    "obs = pd.read_csv(Real_Dir+File_Name, index_col=None)\n",
    "syn = pd.read_csv(Real_Dir+File_Name, index_col=None)\n",
    "\n",
    "predictorVars = ['AM Stress','AM Hunger', 'AM Sleep', 'AM Sleep hours', \n",
    "                 'AM Weight',\n",
    "                 'Percent Weight change (from prev week)',\n",
    "                 'Percent Weight change (from prev day)', 'PM Stress', 'EVE Stress',\n",
    "                 'Number of Episodes Previous Day']\n",
    "targetVar = 'Episode'\n",
    "data = obs\n",
    "predictors = data[predictorVars]\n",
    "targets = data[targetVar]\n",
    "\n"
   ]
  },
  {
   "cell_type": "markdown",
   "metadata": {},
   "source": [
    "# Determine the optimal depth"
   ]
  },
  {
   "cell_type": "code",
   "execution_count": 113,
   "metadata": {},
   "outputs": [
    {
     "name": "stdout",
     "output_type": "stream",
     "text": [
      "[(3, 0.64880952380952384), (4, 0.67380952380952386), (5, 0.67380952380952386), (6, 0.63095238095238093), (7, 0.60595238095238091), (8, 0.56309523809523809), (9, 0.588095238095238), (10, 0.56309523809523809), (11, 0.57916666666666672), (12, 0.55059523809523803), (13, 0.56309523809523809), (14, 0.57916666666666672), (15, 0.56309523809523809), (16, 0.57559523809523805), (17, 0.59166666666666667), (18, 0.59166666666666667), (19, 0.56309523809523809)]\n",
      "4\n",
      "--- 0.536602973938 seconds ---\n"
     ]
    }
   ],
   "source": [
    "\n",
    "start_time = time.time()\n",
    "def Get_Optimal_Depth(data):\n",
    "    \"\"\"\n",
    "    This function takes in the dataset\n",
    "    It computes the score for cross validation witch each value of depth\n",
    "    Return the score of the tree, the higher the better\n",
    "    \"\"\"\n",
    "    predictors = data[predictorVars]\n",
    "    targets = data[targetVar]\n",
    "    pred_train, pred_test, tar_train, tar_test = train_test_split(predictors, targets, test_size = 0.1, random_state = 0)\n",
    "    depth = []\n",
    "    maxScore = 0\n",
    "    for i in range(3,20):\n",
    "        classifier = DecisionTreeClassifier(max_depth = i)\n",
    "        score = cross_val_score(estimator = classifier, X = predictors, y = targets, cv = 10, n_jobs = 1)\n",
    "        if (score.mean() > maxScore):\n",
    "            maxScore = score.mean()\n",
    "            optimalDepth = i\n",
    "        depth.append((i,score.mean()))\n",
    "    print(depth)\n",
    "    return(optimalDepth)\n",
    "\n",
    "optimalDepth = Get_Optimal_Depth(obs)\n",
    "print(optimalDepth)\n",
    "print(\"--- %s seconds ---\" % (time.time() - start_time))\n"
   ]
  },
  {
   "cell_type": "code",
   "execution_count": 95,
   "metadata": {
    "collapsed": true
   },
   "outputs": [],
   "source": []
  },
  {
   "cell_type": "code",
   "execution_count": null,
   "metadata": {
    "collapsed": true
   },
   "outputs": [],
   "source": []
  }
 ],
 "metadata": {
  "kernelspec": {
   "display_name": "Python 2",
   "language": "python",
   "name": "python2"
  },
  "language_info": {
   "codemirror_mode": {
    "name": "ipython",
    "version": 2
   },
   "file_extension": ".py",
   "mimetype": "text/x-python",
   "name": "python",
   "nbconvert_exporter": "python",
   "pygments_lexer": "ipython2",
   "version": "2.7.13"
  }
 },
 "nbformat": 4,
 "nbformat_minor": 2
}
