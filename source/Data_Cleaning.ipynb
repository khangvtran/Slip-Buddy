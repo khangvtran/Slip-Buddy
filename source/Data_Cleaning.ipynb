{
 "cells": [
  {
   "cell_type": "markdown",
   "metadata": {},
   "source": [
    "# Import basic packages (e.g., numpy and pandas)"
   ]
  },
  {
   "cell_type": "code",
   "execution_count": 2,
   "metadata": {
    "collapsed": true
   },
   "outputs": [],
   "source": [
    "import numpy as np\n",
    "import pandas as pd\n",
    "from pandas import DataFrame\n",
    "import datetime"
   ]
  },
  {
   "cell_type": "markdown",
   "metadata": {},
   "source": [
    "# Read in and prepare the data set "
   ]
  },
  {
   "cell_type": "code",
   "execution_count": 3,
   "metadata": {},
   "outputs": [
    {
     "data": {
      "text/html": [
       "<div>\n",
       "<style>\n",
       "    .dataframe thead tr:only-child th {\n",
       "        text-align: right;\n",
       "    }\n",
       "\n",
       "    .dataframe thead th {\n",
       "        text-align: left;\n",
       "    }\n",
       "\n",
       "    .dataframe tbody tr th {\n",
       "        vertical-align: top;\n",
       "    }\n",
       "</style>\n",
       "<table border=\"1\" class=\"dataframe\">\n",
       "  <thead>\n",
       "    <tr style=\"text-align: right;\">\n",
       "      <th></th>\n",
       "      <th>DAY</th>\n",
       "      <th>patientid</th>\n",
       "      <th>date</th>\n",
       "      <th>Gender</th>\n",
       "      <th>Age</th>\n",
       "      <th>Marital Status</th>\n",
       "      <th>Education (Numeric)</th>\n",
       "      <th>Hispanic</th>\n",
       "      <th>Caucasian</th>\n",
       "      <th>Black</th>\n",
       "      <th>...</th>\n",
       "      <th>AM Hunger</th>\n",
       "      <th>AM Sleep</th>\n",
       "      <th>AM Sleep hours</th>\n",
       "      <th>AM Weight</th>\n",
       "      <th>Percent Weight change (from prev week)</th>\n",
       "      <th>Percent Weight change (from prev day)</th>\n",
       "      <th>PM Stress</th>\n",
       "      <th>EVE Stress</th>\n",
       "      <th>Number of Episodes Previous Day</th>\n",
       "      <th>Episode</th>\n",
       "    </tr>\n",
       "  </thead>\n",
       "  <tbody>\n",
       "    <tr>\n",
       "      <th>0</th>\n",
       "      <td>1</td>\n",
       "      <td>7</td>\n",
       "      <td>11/24/2015</td>\n",
       "      <td>Male</td>\n",
       "      <td>52</td>\n",
       "      <td>Married</td>\n",
       "      <td>2</td>\n",
       "      <td>No</td>\n",
       "      <td>1</td>\n",
       "      <td>0</td>\n",
       "      <td>...</td>\n",
       "      <td>0.0</td>\n",
       "      <td>7.0</td>\n",
       "      <td>10.0</td>\n",
       "      <td>230.0</td>\n",
       "      <td>NaN</td>\n",
       "      <td>NaN</td>\n",
       "      <td>3.0</td>\n",
       "      <td>2.0</td>\n",
       "      <td>0</td>\n",
       "      <td>Y</td>\n",
       "    </tr>\n",
       "    <tr>\n",
       "      <th>1</th>\n",
       "      <td>2</td>\n",
       "      <td>7</td>\n",
       "      <td>11/25/2015</td>\n",
       "      <td>Male</td>\n",
       "      <td>52</td>\n",
       "      <td>Married</td>\n",
       "      <td>2</td>\n",
       "      <td>No</td>\n",
       "      <td>1</td>\n",
       "      <td>0</td>\n",
       "      <td>...</td>\n",
       "      <td>4.0</td>\n",
       "      <td>3.0</td>\n",
       "      <td>5.0</td>\n",
       "      <td>228.0</td>\n",
       "      <td>NaN</td>\n",
       "      <td>-0.008772</td>\n",
       "      <td>5.0</td>\n",
       "      <td>1.0</td>\n",
       "      <td>1</td>\n",
       "      <td>Y</td>\n",
       "    </tr>\n",
       "    <tr>\n",
       "      <th>2</th>\n",
       "      <td>3</td>\n",
       "      <td>7</td>\n",
       "      <td>11/26/2015</td>\n",
       "      <td>Male</td>\n",
       "      <td>52</td>\n",
       "      <td>Married</td>\n",
       "      <td>2</td>\n",
       "      <td>No</td>\n",
       "      <td>1</td>\n",
       "      <td>0</td>\n",
       "      <td>...</td>\n",
       "      <td>5.0</td>\n",
       "      <td>8.0</td>\n",
       "      <td>9.0</td>\n",
       "      <td>228.0</td>\n",
       "      <td>NaN</td>\n",
       "      <td>0.000000</td>\n",
       "      <td>2.0</td>\n",
       "      <td>NaN</td>\n",
       "      <td>1</td>\n",
       "      <td>Y</td>\n",
       "    </tr>\n",
       "    <tr>\n",
       "      <th>3</th>\n",
       "      <td>4</td>\n",
       "      <td>7</td>\n",
       "      <td>11/27/2015</td>\n",
       "      <td>Male</td>\n",
       "      <td>52</td>\n",
       "      <td>Married</td>\n",
       "      <td>2</td>\n",
       "      <td>No</td>\n",
       "      <td>1</td>\n",
       "      <td>0</td>\n",
       "      <td>...</td>\n",
       "      <td>5.0</td>\n",
       "      <td>7.0</td>\n",
       "      <td>8.0</td>\n",
       "      <td>229.0</td>\n",
       "      <td>NaN</td>\n",
       "      <td>0.004367</td>\n",
       "      <td>5.0</td>\n",
       "      <td>9.0</td>\n",
       "      <td>0</td>\n",
       "      <td>N</td>\n",
       "    </tr>\n",
       "    <tr>\n",
       "      <th>4</th>\n",
       "      <td>5</td>\n",
       "      <td>7</td>\n",
       "      <td>11/28/2015</td>\n",
       "      <td>Male</td>\n",
       "      <td>52</td>\n",
       "      <td>Married</td>\n",
       "      <td>2</td>\n",
       "      <td>No</td>\n",
       "      <td>1</td>\n",
       "      <td>0</td>\n",
       "      <td>...</td>\n",
       "      <td>5.0</td>\n",
       "      <td>5.0</td>\n",
       "      <td>5.0</td>\n",
       "      <td>229.0</td>\n",
       "      <td>NaN</td>\n",
       "      <td>0.000000</td>\n",
       "      <td>2.0</td>\n",
       "      <td>1.0</td>\n",
       "      <td>0</td>\n",
       "      <td>N</td>\n",
       "    </tr>\n",
       "  </tbody>\n",
       "</table>\n",
       "<p>5 rows × 28 columns</p>\n",
       "</div>"
      ],
      "text/plain": [
       "   DAY  patientid        date Gender  Age Marital Status  Education (Numeric)  \\\n",
       "0    1          7  11/24/2015   Male   52        Married                    2   \n",
       "1    2          7  11/25/2015   Male   52        Married                    2   \n",
       "2    3          7  11/26/2015   Male   52        Married                    2   \n",
       "3    4          7  11/27/2015   Male   52        Married                    2   \n",
       "4    5          7  11/28/2015   Male   52        Married                    2   \n",
       "\n",
       "  Hispanic  Caucasian  Black   ...     AM Hunger  AM Sleep  AM Sleep hours  \\\n",
       "0       No          1      0   ...           0.0       7.0            10.0   \n",
       "1       No          1      0   ...           4.0       3.0             5.0   \n",
       "2       No          1      0   ...           5.0       8.0             9.0   \n",
       "3       No          1      0   ...           5.0       7.0             8.0   \n",
       "4       No          1      0   ...           5.0       5.0             5.0   \n",
       "\n",
       "   AM Weight  Percent Weight change (from prev week)  \\\n",
       "0      230.0                                     NaN   \n",
       "1      228.0                                     NaN   \n",
       "2      228.0                                     NaN   \n",
       "3      229.0                                     NaN   \n",
       "4      229.0                                     NaN   \n",
       "\n",
       "   Percent Weight change (from prev day)  PM Stress  EVE Stress  \\\n",
       "0                                    NaN        3.0         2.0   \n",
       "1                              -0.008772        5.0         1.0   \n",
       "2                               0.000000        2.0         NaN   \n",
       "3                               0.004367        5.0         9.0   \n",
       "4                               0.000000        2.0         1.0   \n",
       "\n",
       "   Number of Episodes Previous Day  Episode  \n",
       "0                                0        Y  \n",
       "1                                1        Y  \n",
       "2                                1        Y  \n",
       "3                                0        N  \n",
       "4                                0        N  \n",
       "\n",
       "[5 rows x 28 columns]"
      ]
     },
     "execution_count": 3,
     "metadata": {},
     "output_type": "execute_result"
    }
   ],
   "source": [
    "# read in the check-in file\n",
    "data = pd.read_csv(\"/Users/KVTran/Documents/Research/WPI/Slip_Buddy/REU_2017/data/questions.csv\")\n",
    "# show the columns' names\n",
    "list(data)\n",
    "# select only a number of informative columns\n",
    "col = ['DAY', 'patientid', 'date', 'Gender', 'Age', 'Marital Status', 'Education (Numeric)', \n",
    "       'Hispanic', 'Caucasian', 'Black', 'Asian', 'NHPI', 'Native American', 'Multi', 'Others',\n",
    "       'Household', 'Income', \n",
    "       'AM Stress', 'AM Hunger', 'AM Sleep', 'AM Sleep hours',\n",
    "       'AM Weight', 'Percent Weight change (from prev week)', 'Percent Weight change (from prev day)',\n",
    "       'PM Stress','EVE Stress',\n",
    "       'Number of Episodes Previous Day',\n",
    "       'Episode']\n",
    "data = data[col]\n",
    "data.head()"
   ]
  },
  {
   "cell_type": "markdown",
   "metadata": {},
   "source": [
    "# Convert data to numerical"
   ]
  },
  {
   "cell_type": "code",
   "execution_count": 4,
   "metadata": {
    "collapsed": true
   },
   "outputs": [],
   "source": [
    "# Convert the categorical variables into numerical one\n",
    "# Use the fit_transform() method from sklean.preprocessing.LableEncoder()\n",
    "# Gender and Marital Status are catoegorical, not boolean. Hence, we add 1\n",
    "from sklearn import preprocessing\n",
    "le = preprocessing.LabelEncoder()\n",
    "def toNumeric(data, nominalVariables):\n",
    "    \"\"\"\n",
    "    This function takes in a list of categorical variables' names (columns' names) \n",
    "    It convert those values into numeric, and assign it directly to data dataframe\n",
    "    Return nothing\n",
    "    \"\"\"\n",
    "    for i in nominalVariables:\n",
    "        numericalVals = le.fit_transform(data[i])\n",
    "        if (i == \"Gender\" or i == \"Marital Status\"):\n",
    "            numericalVals += 1\n",
    "        data[i] = numericalVals\n",
    "nominalVariables = [\"Gender\", \"Marital Status\",\"Hispanic\", \"Episode\"]\n",
    "toNumeric(data, nominalVariables)\n",
    "\n",
    "# We remove the very last row that was added in when the data being converted to numerical\n",
    "#data = data.drop(data.index[-1])"
   ]
  },
  {
   "cell_type": "markdown",
   "metadata": {},
   "source": [
    "# Find out which columns contain NaN"
   ]
  },
  {
   "cell_type": "code",
   "execution_count": 5,
   "metadata": {
    "scrolled": true
   },
   "outputs": [
    {
     "data": {
      "text/plain": [
       "['AM Stress',\n",
       " 'AM Hunger',\n",
       " 'AM Sleep',\n",
       " 'AM Sleep hours',\n",
       " 'AM Weight',\n",
       " 'Percent Weight change (from prev week)',\n",
       " 'Percent Weight change (from prev day)',\n",
       " 'PM Stress',\n",
       " 'EVE Stress']"
      ]
     },
     "execution_count": 5,
     "metadata": {},
     "output_type": "execute_result"
    }
   ],
   "source": [
    "# Check for NaN values in every columns\n",
    "def checkNaN(data, col):  \n",
    "    \"\"\"\n",
    "    This function accesses column to column and checks if there is any NaN\n",
    "    If yes, print out the column\n",
    "    \"\"\"\n",
    "    nullCount = 0\n",
    "    colWithNaN = []\n",
    "    for i in col:\n",
    "        if data[i].isnull().any():\n",
    "            colWithNaN.append(i)\n",
    "            nullCount += 1\n",
    "    if nullCount == 0:\n",
    "        print(\"no null values found\")\n",
    "    else:\n",
    "        return colWithNaN    \n",
    "colWithNaN = checkNaN(data, col)\n",
    "colWithNaN"
   ]
  },
  {
   "cell_type": "markdown",
   "metadata": {},
   "source": [
    "# Adjust the Episode variable based on number of episode the day before"
   ]
  },
  {
   "cell_type": "code",
   "execution_count": 6,
   "metadata": {},
   "outputs": [
    {
     "name": "stderr",
     "output_type": "stream",
     "text": [
      "/anaconda/lib/python2.7/site-packages/pandas/core/indexing.py:179: SettingWithCopyWarning: \n",
      "A value is trying to be set on a copy of a slice from a DataFrame\n",
      "\n",
      "See the caveats in the documentation: http://pandas.pydata.org/pandas-docs/stable/indexing.html#indexing-view-versus-copy\n",
      "  self._setitem_with_indexer(indexer, value)\n"
     ]
    }
   ],
   "source": [
    "# The conflict between date format of Excel and Python was troublesome\n",
    "# Issue solved by setting custom Excel format for date\n",
    "# Choose the column -> format cell -> date -> choose m/d/yyyy -> choose custom -> mm/dd/yyy\n",
    "def isConsecDate(date1, date2):\n",
    "    \"\"\"\n",
    "    This function check on date1 and date2. Both are str() type\n",
    "    If they are consecutive, return True\n",
    "    \"\"\"\n",
    "    d = datetime.datetime.strptime(date1, '%m/%d/%Y') + datetime.timedelta(days=1)\n",
    "    d = d.strftime('%m/%d/%Y')\n",
    "    if (date2 == d):\n",
    "        return True\n",
    "    else:\n",
    "        return False\n",
    "    \n",
    "def adjustEpisode(data):\n",
    "    \"\"\"\n",
    "    \n",
    "    \"\"\"\n",
    "    numRow = data.shape[0]\n",
    "    for i in range(1, numRow):\n",
    "        currentDate = data.date[i]\n",
    "        prevDate = data.date[i-1]\n",
    "        if isConsecDate(prevDate, currentDate):\n",
    "            numEpPrevDay = data[\"Number of Episodes Previous Day\"][i]\n",
    "            if numEpPrevDay == 0:\n",
    "                data.Episode.iloc[i-1] = 0\n",
    "            else:\n",
    "                data.Episode.iloc[i-1] = 1\n",
    "\n",
    "adjustEpisode(data)\n",
    "                \n"
   ]
  },
  {
   "cell_type": "markdown",
   "metadata": {},
   "source": [
    "# Replace NaN with appropriate values"
   ]
  },
  {
   "cell_type": "code",
   "execution_count": 7,
   "metadata": {
    "collapsed": true
   },
   "outputs": [],
   "source": [
    "def replaceNaN(data, col):\n",
    "    \"\"\"\n",
    "    Form a data block of rows as each patientid and each of the columns that contain NaN\n",
    "    Compute the mean value of that data block\n",
    "    replace the NaN value with that mean\n",
    "    Return nothing\n",
    "    \"\"\"\n",
    "    colWithNaN = checkNaN(data, col)\n",
    "    patientID = list(set(data.patientid))\n",
    "    for i in patientID:\n",
    "        for j in colWithNaN:\n",
    "            dataBlock = data[data.patientid == i][j]\n",
    "            meanVal = np.mean(dataBlock)\n",
    "            # replaceVal is a where() object of numpy.\n",
    "            # check where the datablock contains NaN, replace that spot with meanVal.\n",
    "            replaceVal = np.where(dataBlock.isnull(),\n",
    "                                 -1,\n",
    "                                 dataBlock)\n",
    "            # Notice: using .loc[,] to assign value to the df itself instead of to a copy\n",
    "            data.loc[data[\"patientid\"] == i, j] = replaceVal\n",
    "\n",
    "replaceNaN(data, col)"
   ]
  },
  {
   "cell_type": "markdown",
   "metadata": {},
   "source": [
    "# Export the final data set"
   ]
  },
  {
   "cell_type": "code",
   "execution_count": 8,
   "metadata": {
    "collapsed": true
   },
   "outputs": [],
   "source": [
    "data.to_csv(\"/Users/KVTran/Documents/Research/WPI/Slip_Buddy/REU_2017/data/questions_cleaned.csv\", index = False)"
   ]
  }
 ],
 "metadata": {
  "kernelspec": {
   "display_name": "Python 2",
   "language": "python",
   "name": "python2"
  },
  "language_info": {
   "codemirror_mode": {
    "name": "ipython",
    "version": 2
   },
   "file_extension": ".py",
   "mimetype": "text/x-python",
   "name": "python",
   "nbconvert_exporter": "python",
   "pygments_lexer": "ipython2",
   "version": "2.7.13"
  }
 },
 "nbformat": 4,
 "nbformat_minor": 2
}
