{
 "cells": [
  {
   "cell_type": "markdown",
   "metadata": {},
   "source": [
    "# Import the basic package"
   ]
  },
  {
   "cell_type": "code",
   "execution_count": 3,
   "metadata": {
    "collapsed": true
   },
   "outputs": [],
   "source": [
    "import numpy as np\n",
    "import pandas as pd\n",
    "from pandas import DataFrame\n",
    "import matplotlib.pylab as plt"
   ]
  },
  {
   "cell_type": "markdown",
   "metadata": {},
   "source": [
    "# Read int the questions_cleaned.csv"
   ]
  },
  {
   "cell_type": "code",
   "execution_count": 4,
   "metadata": {
    "collapsed": true
   },
   "outputs": [],
   "source": [
    "# read in the questions_cleaned.csv dataset that was prepared by the Data_Clearning.ipynb script\n",
    "data = pd.read_csv(\"/Users/KVTran/Documents/Research/WPI/Slip_Buddy/REU_2017/data/questions_cleaned.csv\")\n",
    "# Check for NaN values. Sould retrun False since the data has been cleaned.\n",
    "data.isnull().values.any()\n",
    "# get the patient ID\n",
    "patientID = list(set(data.patientid))\n",
    "# Set the column list\n",
    "col = ['DAY', 'patientid', 'date', 'Gender', 'Age', 'Marital Status',\n",
    "                  'Education (Numeric)','Household', 'Income',\n",
    "                  'AM Stress', 'AM Hunger', 'AM Sleep', 'AM Sleep hours', 'AM Weight', \n",
    "                  'Percent Weight change (from prev week)', 'Percent Weight change (from prev day)', \n",
    "                  'PM Stress', 'EVE Stress', 'Number of Episodes Previous Day', 'Episode']"
   ]
  },
  {
   "cell_type": "markdown",
   "metadata": {},
   "source": [
    "# Split the data for each individual patient and save the data set separately"
   ]
  },
  {
   "cell_type": "code",
   "execution_count": 5,
   "metadata": {
    "collapsed": true
   },
   "outputs": [],
   "source": [
    "def splitData(data, col):\n",
    "    for i in patientID:\n",
    "        dataBlock = data[col][data.patientid == i]\n",
    "        # set a directory\n",
    "        savePath = \"/Users/KVTran/Documents/Research/WPI/Slip_Buddy/REU_2017/data/Individual_Patient/patientID_\"\n",
    "        savePath = savePath + str(i) + \".csv\"\n",
    "        # save the dataBlock into that directory\n",
    "        dataBlock.to_csv(savePath, index = False)\n",
    "splitData(data, col)"
   ]
  },
  {
   "cell_type": "markdown",
   "metadata": {},
   "source": [
    "# Adjust the dataset to get a group based table where all patients have the same entries"
   ]
  },
  {
   "cell_type": "code",
   "execution_count": 6,
   "metadata": {
    "collapsed": true
   },
   "outputs": [],
   "source": [
    "def findMinNumRecord(data):\n",
    "    numRow = data.shape[0]\n",
    "    checkID = data.patientid[0]\n",
    "    idCount = 0\n",
    "    idCountList = []\n",
    "    for i in range(numRow):\n",
    "        currentID = data.patientid[i]\n",
    "        if (currentID == checkID and i != numRow-1):\n",
    "           idCount += 1\n",
    "        else:\n",
    "            checkID = currentID\n",
    "            idCountList.append(idCount)\n",
    "            idCount = 1\n",
    "    minRecordCount = min(idCountList)\n",
    "    return minRecordCount\n"
   ]
  },
  {
   "cell_type": "code",
   "execution_count": 7,
   "metadata": {},
   "outputs": [],
   "source": [
    "def makeAdjustedDataset(data, col):\n",
    "    dataFrame = pd.DataFrame(columns = col)\n",
    "    patientID = list(set(data.patientid))\n",
    "    minRecordCount = findMinNumRecord(data)\n",
    "    for i in patientID:\n",
    "        dataBlock = data[col][data.patientid == i]\n",
    "        dataBlock = dataBlock[:minRecordCount]\n",
    "        dataFrame = dataFrame.append(dataBlock, ignore_index=True)\n",
    "    return(dataFrame)\n",
    "\n",
    "adjustedData = makeAdjustedDataset(data, col)"
   ]
  },
  {
   "cell_type": "code",
   "execution_count": 8,
   "metadata": {
    "collapsed": true
   },
   "outputs": [],
   "source": [
    "adjustedData.to_csv(\"/Users/KVTran/Documents/Research/WPI/Slip_Buddy/REU_2017/data/questions_adjusted.csv\")"
   ]
  },
  {
   "cell_type": "code",
   "execution_count": null,
   "metadata": {
    "collapsed": true
   },
   "outputs": [],
   "source": []
  }
 ],
 "metadata": {
  "kernelspec": {
   "display_name": "Python 2",
   "language": "python",
   "name": "python2"
  },
  "language_info": {
   "codemirror_mode": {
    "name": "ipython",
    "version": 2
   },
   "file_extension": ".py",
   "mimetype": "text/x-python",
   "name": "python",
   "nbconvert_exporter": "python",
   "pygments_lexer": "ipython2",
   "version": "2.7.13"
  }
 },
 "nbformat": 4,
 "nbformat_minor": 2
}
